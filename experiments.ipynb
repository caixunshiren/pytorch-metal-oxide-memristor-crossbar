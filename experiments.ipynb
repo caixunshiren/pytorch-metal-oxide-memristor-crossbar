{
 "cells": [
  {
   "cell_type": "code",
   "execution_count": 1,
   "metadata": {},
   "outputs": [],
   "source": [
    "%load_ext autoreload\n",
    "%autoreload 2"
   ]
  },
  {
   "cell_type": "code",
   "execution_count": 2,
   "metadata": {},
   "outputs": [
    {
     "name": "stderr",
     "output_type": "stream",
     "text": [
      "c:\\Users\\Ahsan\\anaconda3\\envs\\messi\\lib\\site-packages\\numpy\\_distributor_init.py:32: UserWarning: loaded more than 1 DLL from .libs:\n",
      "c:\\Users\\Ahsan\\anaconda3\\envs\\messi\\lib\\site-packages\\numpy\\.libs\\libopenblas.WCDJNK7YVMPZQ2ME2ZZHJJRJ3JIKNDB7.gfortran-win_amd64.dll\n",
      "c:\\Users\\Ahsan\\anaconda3\\envs\\messi\\lib\\site-packages\\numpy\\.libs\\libopenblas.XWYDX2IKJW2NMTWSFYNGFUWKQU3LYTCZ.gfortran-win_amd64.dll\n",
      "  stacklevel=1)\n"
     ]
    }
   ],
   "source": [
    "# experiment 1:\n",
    "# first, creating a set of N randomly generated (m, 1) vectors:\n",
    "import numpy as np\n",
    "m = 5\n",
    "N = 100\n",
    "vectors = [np.random.rand(*(m, 1)) for _ in range(N)]"
   ]
  },
  {
   "cell_type": "code",
   "execution_count": 3,
   "metadata": {},
   "outputs": [
    {
     "name": "stdout",
     "output_type": "stream",
     "text": [
      "{0: 44, 1: 67, 2: 60, 3: 20, 4: 12, 5: 43, 6: 84, 7: 24, 8: 21, 9: 82, 10: 77, 11: 87, 12: 60, 13: 80, 14: 42, 15: 93, 16: 65, 17: 36, 18: 59, 19: 90, 20: 90, 21: 98, 22: 88, 23: 91, 24: 42, 25: 0, 26: 43, 27: 67, 28: 92, 29: 93, 30: 78, 31: 44, 32: 59, 33: 43, 34: 0, 35: 83, 36: 17, 37: 97, 38: 40, 39: 35, 40: 38, 41: 73, 42: 46, 43: 33, 44: 0, 45: 33, 46: 42, 47: 85, 48: 63, 49: 54, 50: 54, 51: 1, 52: 69, 53: 26, 54: 49, 55: 42, 56: 35, 57: 19, 58: 78, 59: 32, 60: 12, 61: 84, 62: 8, 63: 48, 64: 97, 65: 16, 66: 70, 67: 1, 68: 88, 69: 52, 70: 52, 71: 12, 72: 25, 73: 41, 74: 89, 75: 54, 76: 23, 77: 10, 78: 69, 79: 67, 80: 13, 81: 94, 82: 9, 83: 35, 84: 6, 85: 98, 86: 39, 87: 56, 88: 68, 89: 13, 90: 19, 91: 23, 92: 28, 93: 15, 94: 81, 95: 4, 96: 55, 97: 37, 98: 85, 99: 97}\n"
     ]
    }
   ],
   "source": [
    "# finding nearest neighbor of each vector using O(N^2) brute force approach:\n",
    "nearest_neighbors = {} # the keys will be the indices of the vectors from 0 to N-1, and the corresponding values will be the indices of its nearest neighbor\n",
    "for i in range(len(vectors)):\n",
    "    nearest_dist = float('inf')\n",
    "    nearest_neighbors[i] = None\n",
    "    for j in range(len(vectors)):\n",
    "        if j != i:\n",
    "            dist = np.linalg.norm(vectors[i] - vectors[j])\n",
    "            if dist < nearest_dist:\n",
    "                nearest_dist = dist\n",
    "                nearest_neighbors[i] = j\n",
    "print (nearest_neighbors) "
   ]
  },
  {
   "cell_type": "code",
   "execution_count": 4,
   "metadata": {},
   "outputs": [
    {
     "name": "stderr",
     "output_type": "stream",
     "text": [
      "c:\\Users\\Ahsan\\OneDrive - University of Toronto\\Desktop\\onedrive_ruined_everything\\pytorch-metal-oxide-memristor-crossbar\\memristor\\crossbar\\model.py:32: UserWarning: Creating a tensor from a list of numpy.ndarrays is extremely slow. Please consider converting the list to a single numpy.ndarray with numpy.array() before converting to a tensor. (Triggered internally at  C:\\actions-runner\\_work\\pytorch\\pytorch\\builder\\windows\\pytorch\\torch\\csrc\\utils\\tensor_new.cpp:210.)\n",
      "  for i in range(ideal_w.shape[0])]).squeeze()\n"
     ]
    },
    {
     "name": "stdout",
     "output_type": "stream",
     "text": [
      "{0: 44, 1: 67, 2: 60, 3: 20, 4: 12, 5: 43, 6: 84, 7: 24, 8: 21, 9: 82, 10: 77, 11: 87, 12: 60, 13: 80, 14: 42, 15: 93, 16: 65, 17: 36, 18: 59, 19: 90, 20: 90, 21: 98, 22: 88, 23: 91, 24: 42, 25: 0, 26: 43, 27: 67, 28: 92, 29: 93, 30: 78, 31: 44, 32: 59, 33: 43, 34: 0, 35: 83, 36: 17, 37: 97, 38: 40, 39: 35, 40: 38, 41: 73, 42: 46, 43: 33, 44: 0, 45: 33, 46: 42, 47: 85, 48: 63, 49: 54, 50: 54, 51: 1, 52: 69, 53: 26, 54: 49, 55: 42, 56: 35, 57: 19, 58: 78, 59: 32, 60: 12, 61: 84, 62: 8, 63: 48, 64: 97, 65: 16, 66: 70, 67: 1, 68: 88, 69: 52, 70: 52, 71: 12, 72: 25, 73: 41, 74: 89, 75: 54, 76: 23, 77: 10, 78: 69, 79: 67, 80: 13, 81: 94, 82: 9, 83: 35, 84: 6, 85: 98, 86: 39, 87: 56, 88: 68, 89: 13, 90: 19, 91: 23, 92: 28, 93: 15, 94: 81, 95: 4, 96: 55, 97: 37, 98: 85, 99: 97}\n"
     ]
    }
   ],
   "source": [
    "# finding nearest neighbor of each vector using NaiveLSH:\n",
    "from memristor.engine.model import NaiveLSH\n",
    "from memristor.crossbar.model import LineResistanceCrossbar\n",
    "from memristor.devices import StaticMemristor\n",
    "naive_lsh = NaiveLSH(\n",
    "    hash_size=3, # adjustable hyperparameter\n",
    "    crossbar_class=LineResistanceCrossbar,\n",
    "    crossbar_params={'r_wl': 20, 'r_bl': 20, 'r_in':10, 'r_out':10, 'V_SOURCE_MODE':'|_|'},\n",
    "    memristor_model_class=StaticMemristor,\n",
    "    memristor_params={'frequency': 1e8, 'temperature': 273 + 40},\n",
    "    m=m,\n",
    "    r=1, # adjustable hyperparameter\n",
    ")\n",
    "reps = 5 # adjustable hyperparameter (repetitions of the hashing)\n",
    "all_bins = []\n",
    "for _ in range(reps):\n",
    "    bins = {}\n",
    "    for i in range(len(vectors)):\n",
    "        hash = naive_lsh.inference(vectors[i])\n",
    "        if hash not in bins.keys():\n",
    "            bins[hash] = [i]\n",
    "        else:\n",
    "            bins[hash].append(i)\n",
    "    for bin in list(bins.values()):\n",
    "        all_bins.append(bin)\n",
    "#      {010:[1,5,7], 111:[5,6,7]}\n",
    "\n",
    "# now at this point all_bins is a list like [[1,2], [1,3,5], ... ] where each element of all_bins is a bin containing indices of vectors that are likely\n",
    "# to be close to each other. so now to find the nearest neighbor for each vector, we simply iterate through and check only those vectors that share a bin\n",
    "# with it, so in this case for 1 we would check 2, 3, and 5, to find the nearest neighbor\n",
    "nearest_neighbors_approx = {}\n",
    "for i in range(len(vectors)):\n",
    "    nearest_dist = float('inf')\n",
    "    nearest_neighbors_approx[i] = None\n",
    "    for bin in all_bins:\n",
    "        if i in bin:\n",
    "            for j in bin:\n",
    "                if j != i:\n",
    "                    dist = np.linalg.norm(vectors[i] - vectors[j])\n",
    "                    if dist < nearest_dist:\n",
    "                        nearest_dist = dist \n",
    "                        nearest_neighbors_approx[i] = j\n",
    "print (nearest_neighbors_approx)"
   ]
  },
  {
   "cell_type": "code",
   "execution_count": 5,
   "metadata": {},
   "outputs": [
    {
     "name": "stdout",
     "output_type": "stream",
     "text": [
      "{0: 44, 1: 67, 2: 60, 3: 20, 4: 12, 5: 43, 6: 84, 7: 24, 8: 21, 9: 82, 10: 77, 11: 87, 12: 60, 13: 80, 14: 42, 15: 93, 16: 65, 17: 36, 18: 59, 19: 90, 20: 90, 21: 98, 22: 88, 23: 91, 24: 42, 25: 0, 26: 43, 27: 67, 28: 92, 29: 93, 30: 78, 31: 44, 32: 59, 33: 43, 34: 0, 35: 83, 36: 17, 37: 97, 38: 40, 39: 35, 40: 38, 41: 73, 42: 46, 43: 33, 44: 0, 45: 33, 46: 42, 47: 85, 48: 63, 49: 54, 50: 54, 51: 1, 52: 69, 53: 26, 54: 49, 55: 42, 56: 35, 57: 19, 58: 78, 59: 32, 60: 12, 61: 84, 62: 8, 63: 48, 64: 97, 65: 16, 66: 70, 67: 1, 68: 88, 69: 52, 70: 52, 71: 12, 72: 25, 73: 41, 74: 89, 75: 54, 76: 23, 77: 10, 78: 69, 79: 67, 80: 13, 81: 94, 82: 9, 83: 35, 84: 6, 85: 98, 86: 39, 87: 56, 88: 68, 89: 13, 90: 19, 91: 23, 92: 28, 93: 15, 94: 81, 95: 4, 96: 55, 97: 37, 98: 85, 99: 97}\n",
      "{0: 44, 1: 67, 2: 60, 3: 20, 4: 12, 5: 43, 6: 84, 7: 24, 8: 21, 9: 82, 10: 77, 11: 87, 12: 60, 13: 80, 14: 42, 15: 93, 16: 65, 17: 36, 18: 59, 19: 90, 20: 90, 21: 98, 22: 88, 23: 91, 24: 42, 25: 0, 26: 43, 27: 67, 28: 92, 29: 93, 30: 78, 31: 44, 32: 59, 33: 43, 34: 0, 35: 83, 36: 17, 37: 97, 38: 40, 39: 35, 40: 38, 41: 73, 42: 46, 43: 33, 44: 0, 45: 33, 46: 42, 47: 85, 48: 63, 49: 54, 50: 54, 51: 1, 52: 69, 53: 26, 54: 49, 55: 42, 56: 35, 57: 19, 58: 78, 59: 32, 60: 12, 61: 84, 62: 8, 63: 48, 64: 97, 65: 16, 66: 70, 67: 1, 68: 88, 69: 52, 70: 52, 71: 12, 72: 25, 73: 41, 74: 89, 75: 54, 76: 23, 77: 10, 78: 69, 79: 67, 80: 13, 81: 94, 82: 9, 83: 35, 84: 6, 85: 98, 86: 39, 87: 56, 88: 68, 89: 13, 90: 19, 91: 23, 92: 28, 93: 15, 94: 81, 95: 4, 96: 55, 97: 37, 98: 85, 99: 97}\n"
     ]
    }
   ],
   "source": [
    "print (nearest_neighbors)\n",
    "print (nearest_neighbors_approx)"
   ]
  },
  {
   "cell_type": "code",
   "execution_count": null,
   "metadata": {},
   "outputs": [],
   "source": []
  }
 ],
 "metadata": {
  "kernelspec": {
   "display_name": "messi",
   "language": "python",
   "name": "python3"
  },
  "language_info": {
   "codemirror_mode": {
    "name": "ipython",
    "version": 3
   },
   "file_extension": ".py",
   "mimetype": "text/x-python",
   "name": "python",
   "nbconvert_exporter": "python",
   "pygments_lexer": "ipython3",
   "version": "3.7.9"
  },
  "orig_nbformat": 4
 },
 "nbformat": 4,
 "nbformat_minor": 2
}
