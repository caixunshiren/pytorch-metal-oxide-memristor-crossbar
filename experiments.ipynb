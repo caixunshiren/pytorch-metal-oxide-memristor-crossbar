{
 "cells": [
  {
   "cell_type": "code",
   "execution_count": 1,
   "metadata": {},
   "outputs": [],
   "source": [
    "%load_ext autoreload\n",
    "%autoreload 2"
   ]
  },
  {
   "cell_type": "code",
   "execution_count": 2,
   "metadata": {},
   "outputs": [
    {
     "name": "stderr",
     "output_type": "stream",
     "text": [
      "c:\\Users\\Ahsan\\anaconda3\\envs\\messi\\lib\\site-packages\\numpy\\_distributor_init.py:32: UserWarning: loaded more than 1 DLL from .libs:\n",
      "c:\\Users\\Ahsan\\anaconda3\\envs\\messi\\lib\\site-packages\\numpy\\.libs\\libopenblas.WCDJNK7YVMPZQ2ME2ZZHJJRJ3JIKNDB7.gfortran-win_amd64.dll\n",
      "c:\\Users\\Ahsan\\anaconda3\\envs\\messi\\lib\\site-packages\\numpy\\.libs\\libopenblas.XWYDX2IKJW2NMTWSFYNGFUWKQU3LYTCZ.gfortran-win_amd64.dll\n",
      "  stacklevel=1)\n"
     ]
    }
   ],
   "source": [
    "# experiment 1:\n",
    "# first, creating a set of N randomly generated (n, 1) vectors:\n",
    "import numpy as np\n",
    "m = 5\n",
    "N = 100\n",
    "vectors = [np.random.rand(*(m, 1)) for _ in range(N)]"
   ]
  },
  {
   "cell_type": "code",
   "execution_count": 3,
   "metadata": {},
   "outputs": [
    {
     "name": "stdout",
     "output_type": "stream",
     "text": [
      "{0: 79, 1: 39, 2: 12, 3: 69, 4: 99, 5: 78, 6: 79, 7: 78, 8: 90, 9: 29, 10: 28, 11: 76, 12: 2, 13: 31, 14: 75, 15: 11, 16: 15, 17: 63, 18: 35, 19: 49, 20: 64, 21: 95, 22: 90, 23: 70, 24: 64, 25: 74, 26: 14, 27: 21, 28: 0, 29: 9, 30: 8, 31: 98, 32: 43, 33: 85, 34: 83, 35: 18, 36: 71, 37: 75, 38: 99, 39: 77, 40: 52, 41: 47, 42: 96, 43: 42, 44: 7, 45: 41, 46: 90, 47: 98, 48: 70, 49: 19, 50: 94, 51: 61, 52: 40, 53: 12, 54: 88, 55: 87, 56: 20, 57: 93, 58: 10, 59: 88, 60: 10, 61: 4, 62: 5, 63: 68, 64: 20, 65: 59, 66: 80, 67: 93, 68: 89, 69: 3, 70: 18, 71: 36, 72: 0, 73: 77, 74: 25, 75: 67, 76: 11, 77: 39, 78: 36, 79: 0, 80: 82, 81: 85, 82: 80, 83: 36, 84: 43, 85: 87, 86: 27, 87: 85, 88: 59, 89: 68, 90: 46, 91: 50, 92: 50, 93: 67, 94: 50, 95: 21, 96: 42, 97: 4, 98: 47, 99: 4}\n"
     ]
    }
   ],
   "source": [
    "# finding nearest neighbor of each vector using O(N^2) brute force approach:\n",
    "nearest_neighbors = {} # the keys will be the indices of the vectors from 0 to N-1, and the corresponding values will be the indices of its nearest neighbor\n",
    "for i in range(len(vectors)):\n",
    "    nearest_dist = float('inf')\n",
    "    nearest_neighbors[i] = None\n",
    "    for j in range(len(vectors)):\n",
    "        if j != i:\n",
    "            dist = np.linalg.norm(vectors[i] - vectors[j])\n",
    "            if dist < nearest_dist:\n",
    "                nearest_dist = dist\n",
    "                nearest_neighbors[i] = j\n",
    "print (nearest_neighbors) "
   ]
  },
  {
   "cell_type": "code",
   "execution_count": 4,
   "metadata": {},
   "outputs": [
    {
     "name": "stdout",
     "output_type": "stream",
     "text": [
      "torch.Size([3, 6])\n"
     ]
    },
    {
     "ename": "ValueError",
     "evalue": "scale < 0",
     "output_type": "error",
     "traceback": [
      "\u001b[1;31m---------------------------------------------------------------------------\u001b[0m",
      "\u001b[1;31mValueError\u001b[0m                                Traceback (most recent call last)",
      "\u001b[1;32m<ipython-input-4-ba91d2c3c755>\u001b[0m in \u001b[0;36m<module>\u001b[1;34m\u001b[0m\n\u001b[0;32m     10\u001b[0m     \u001b[0mmemristor_params\u001b[0m\u001b[1;33m=\u001b[0m\u001b[1;33m{\u001b[0m\u001b[1;34m'frequency'\u001b[0m\u001b[1;33m:\u001b[0m \u001b[1;36m1e8\u001b[0m\u001b[1;33m,\u001b[0m \u001b[1;34m'temperature'\u001b[0m\u001b[1;33m:\u001b[0m \u001b[1;36m273\u001b[0m \u001b[1;33m+\u001b[0m \u001b[1;36m40\u001b[0m\u001b[1;33m}\u001b[0m\u001b[1;33m,\u001b[0m\u001b[1;33m\u001b[0m\u001b[1;33m\u001b[0m\u001b[0m\n\u001b[0;32m     11\u001b[0m     \u001b[0mm\u001b[0m\u001b[1;33m=\u001b[0m\u001b[0mm\u001b[0m\u001b[1;33m,\u001b[0m\u001b[1;33m\u001b[0m\u001b[1;33m\u001b[0m\u001b[0m\n\u001b[1;32m---> 12\u001b[1;33m     \u001b[0mr\u001b[0m\u001b[1;33m=\u001b[0m\u001b[1;36m1\u001b[0m\u001b[1;33m,\u001b[0m \u001b[1;31m# adjustable hyperparameter\u001b[0m\u001b[1;33m\u001b[0m\u001b[1;33m\u001b[0m\u001b[0m\n\u001b[0m\u001b[0;32m     13\u001b[0m )\n\u001b[0;32m     14\u001b[0m \u001b[0mreps\u001b[0m \u001b[1;33m=\u001b[0m \u001b[1;36m5\u001b[0m \u001b[1;31m# adjustable hyperparameter (repetitions of the hashing)\u001b[0m\u001b[1;33m\u001b[0m\u001b[1;33m\u001b[0m\u001b[0m\n",
      "\u001b[1;32mc:\\Users\\Ahsan\\OneDrive - University of Toronto\\Desktop\\onedrive_ruined_everything\\pytorch-metal-oxide-memristor-crossbar\\memristor\\engine\\model.py\u001b[0m in \u001b[0;36m__init__\u001b[1;34m(self, hash_size, crossbar_class, crossbar_params, memristor_model_class, memristor_params, m, r)\u001b[0m\n\u001b[0;32m    399\u001b[0m         \u001b[0mideal_w_with_beta\u001b[0m \u001b[1;33m=\u001b[0m \u001b[0mtorch\u001b[0m\u001b[1;33m.\u001b[0m\u001b[0mfrom_numpy\u001b[0m\u001b[1;33m(\u001b[0m\u001b[0mnp\u001b[0m\u001b[1;33m.\u001b[0m\u001b[0mconcatenate\u001b[0m\u001b[1;33m(\u001b[0m\u001b[1;33m(\u001b[0m\u001b[0mideal_w\u001b[0m\u001b[1;33m,\u001b[0m \u001b[0mbeta\u001b[0m\u001b[1;33m)\u001b[0m\u001b[1;33m,\u001b[0m \u001b[0maxis\u001b[0m\u001b[1;33m=\u001b[0m\u001b[1;36m1\u001b[0m\u001b[1;33m)\u001b[0m\u001b[1;33m)\u001b[0m\u001b[1;33m\u001b[0m\u001b[1;33m\u001b[0m\u001b[0m\n\u001b[0;32m    400\u001b[0m         self.crossbar = crossbar_class(\n\u001b[1;32m--> 401\u001b[1;33m             \u001b[0mmemristor_model_class\u001b[0m\u001b[1;33m,\u001b[0m \u001b[0mmemristor_params\u001b[0m\u001b[1;33m,\u001b[0m \u001b[0mideal_w_with_beta\u001b[0m\u001b[1;33m,\u001b[0m \u001b[0mcrossbar_params\u001b[0m\u001b[1;33m\u001b[0m\u001b[1;33m\u001b[0m\u001b[0m\n\u001b[0m\u001b[0;32m    402\u001b[0m         )\n\u001b[0;32m    403\u001b[0m \u001b[1;33m\u001b[0m\u001b[0m\n",
      "\u001b[1;32mc:\\Users\\Ahsan\\OneDrive - University of Toronto\\Desktop\\onedrive_ruined_everything\\pytorch-metal-oxide-memristor-crossbar\\memristor\\crossbar\\model.py\u001b[0m in \u001b[0;36m__init__\u001b[1;34m(self, memristor_model, memristor_params, ideal_w, crossbar_params)\u001b[0m\n\u001b[0;32m     28\u001b[0m         \u001b[0mprint\u001b[0m \u001b[1;33m(\u001b[0m\u001b[0mself\u001b[0m\u001b[1;33m.\u001b[0m\u001b[0mideal_w\u001b[0m\u001b[1;33m.\u001b[0m\u001b[0mshape\u001b[0m\u001b[1;33m)\u001b[0m\u001b[1;33m\u001b[0m\u001b[1;33m\u001b[0m\u001b[0m\n\u001b[0;32m     29\u001b[0m         self.memristors = [[initialize_memristor(memristor_model, memristor_params, self.ideal_w[i, j])\n\u001b[1;32m---> 30\u001b[1;33m                             for j in range(self.ideal_w.shape[1])] for i in range(self.ideal_w.shape[0])]\n\u001b[0m\u001b[0;32m     31\u001b[0m         \u001b[0mself\u001b[0m\u001b[1;33m.\u001b[0m\u001b[0mn\u001b[0m\u001b[1;33m,\u001b[0m \u001b[0mself\u001b[0m\u001b[1;33m.\u001b[0m\u001b[0mm\u001b[0m \u001b[1;33m=\u001b[0m \u001b[0mself\u001b[0m\u001b[1;33m.\u001b[0m\u001b[0mideal_w\u001b[0m\u001b[1;33m.\u001b[0m\u001b[0mshape\u001b[0m\u001b[1;33m\u001b[0m\u001b[1;33m\u001b[0m\u001b[0m\n\u001b[0;32m     32\u001b[0m         self.fitted_w = torch.tensor([[self.memristors[i][j].g_linfit for j in range(ideal_w.shape[1])]\n",
      "\u001b[1;32mc:\\Users\\Ahsan\\OneDrive - University of Toronto\\Desktop\\onedrive_ruined_everything\\pytorch-metal-oxide-memristor-crossbar\\memristor\\crossbar\\model.py\u001b[0m in \u001b[0;36m<listcomp>\u001b[1;34m(.0)\u001b[0m\n\u001b[0;32m     28\u001b[0m         \u001b[0mprint\u001b[0m \u001b[1;33m(\u001b[0m\u001b[0mself\u001b[0m\u001b[1;33m.\u001b[0m\u001b[0mideal_w\u001b[0m\u001b[1;33m.\u001b[0m\u001b[0mshape\u001b[0m\u001b[1;33m)\u001b[0m\u001b[1;33m\u001b[0m\u001b[1;33m\u001b[0m\u001b[0m\n\u001b[0;32m     29\u001b[0m         self.memristors = [[initialize_memristor(memristor_model, memristor_params, self.ideal_w[i, j])\n\u001b[1;32m---> 30\u001b[1;33m                             for j in range(self.ideal_w.shape[1])] for i in range(self.ideal_w.shape[0])]\n\u001b[0m\u001b[0;32m     31\u001b[0m         \u001b[0mself\u001b[0m\u001b[1;33m.\u001b[0m\u001b[0mn\u001b[0m\u001b[1;33m,\u001b[0m \u001b[0mself\u001b[0m\u001b[1;33m.\u001b[0m\u001b[0mm\u001b[0m \u001b[1;33m=\u001b[0m \u001b[0mself\u001b[0m\u001b[1;33m.\u001b[0m\u001b[0mideal_w\u001b[0m\u001b[1;33m.\u001b[0m\u001b[0mshape\u001b[0m\u001b[1;33m\u001b[0m\u001b[1;33m\u001b[0m\u001b[0m\n\u001b[0;32m     32\u001b[0m         self.fitted_w = torch.tensor([[self.memristors[i][j].g_linfit for j in range(ideal_w.shape[1])]\n",
      "\u001b[1;32mc:\\Users\\Ahsan\\OneDrive - University of Toronto\\Desktop\\onedrive_ruined_everything\\pytorch-metal-oxide-memristor-crossbar\\memristor\\crossbar\\model.py\u001b[0m in \u001b[0;36m<listcomp>\u001b[1;34m(.0)\u001b[0m\n\u001b[0;32m     28\u001b[0m         \u001b[0mprint\u001b[0m \u001b[1;33m(\u001b[0m\u001b[0mself\u001b[0m\u001b[1;33m.\u001b[0m\u001b[0mideal_w\u001b[0m\u001b[1;33m.\u001b[0m\u001b[0mshape\u001b[0m\u001b[1;33m)\u001b[0m\u001b[1;33m\u001b[0m\u001b[1;33m\u001b[0m\u001b[0m\n\u001b[0;32m     29\u001b[0m         self.memristors = [[initialize_memristor(memristor_model, memristor_params, self.ideal_w[i, j])\n\u001b[1;32m---> 30\u001b[1;33m                             for j in range(self.ideal_w.shape[1])] for i in range(self.ideal_w.shape[0])]\n\u001b[0m\u001b[0;32m     31\u001b[0m         \u001b[0mself\u001b[0m\u001b[1;33m.\u001b[0m\u001b[0mn\u001b[0m\u001b[1;33m,\u001b[0m \u001b[0mself\u001b[0m\u001b[1;33m.\u001b[0m\u001b[0mm\u001b[0m \u001b[1;33m=\u001b[0m \u001b[0mself\u001b[0m\u001b[1;33m.\u001b[0m\u001b[0mideal_w\u001b[0m\u001b[1;33m.\u001b[0m\u001b[0mshape\u001b[0m\u001b[1;33m\u001b[0m\u001b[1;33m\u001b[0m\u001b[0m\n\u001b[0;32m     32\u001b[0m         self.fitted_w = torch.tensor([[self.memristors[i][j].g_linfit for j in range(ideal_w.shape[1])]\n",
      "\u001b[1;32mc:\\Users\\Ahsan\\OneDrive - University of Toronto\\Desktop\\onedrive_ruined_everything\\pytorch-metal-oxide-memristor-crossbar\\memristor\\crossbar\\model.py\u001b[0m in \u001b[0;36minitialize_memristor\u001b[1;34m(memristor_model, memristor_params, g_0)\u001b[0m\n\u001b[0;32m    342\u001b[0m     \u001b[1;32mif\u001b[0m \u001b[0mmemristor_model\u001b[0m \u001b[1;33m==\u001b[0m \u001b[0mStaticMemristor\u001b[0m\u001b[1;33m:\u001b[0m\u001b[1;33m\u001b[0m\u001b[1;33m\u001b[0m\u001b[0m\n\u001b[0;32m    343\u001b[0m         \u001b[0mmemristor\u001b[0m \u001b[1;33m=\u001b[0m \u001b[0mStaticMemristor\u001b[0m\u001b[1;33m(\u001b[0m\u001b[0mg_0\u001b[0m\u001b[1;33m)\u001b[0m\u001b[1;33m\u001b[0m\u001b[1;33m\u001b[0m\u001b[0m\n\u001b[1;32m--> 344\u001b[1;33m         \u001b[0mmemristor\u001b[0m\u001b[1;33m.\u001b[0m\u001b[0mcalibrate\u001b[0m\u001b[1;33m(\u001b[0m\u001b[0mmemristor_params\u001b[0m\u001b[1;33m[\u001b[0m\u001b[1;34m\"temperature\"\u001b[0m\u001b[1;33m]\u001b[0m\u001b[1;33m,\u001b[0m \u001b[0mmemristor_params\u001b[0m\u001b[1;33m[\u001b[0m\u001b[1;34m\"frequency\"\u001b[0m\u001b[1;33m]\u001b[0m\u001b[1;33m)\u001b[0m\u001b[1;33m\u001b[0m\u001b[1;33m\u001b[0m\u001b[0m\n\u001b[0m\u001b[0;32m    345\u001b[0m         \u001b[1;32mreturn\u001b[0m \u001b[0mmemristor\u001b[0m\u001b[1;33m\u001b[0m\u001b[1;33m\u001b[0m\u001b[0m\n\u001b[0;32m    346\u001b[0m     \u001b[1;32melif\u001b[0m \u001b[0mmemristor_model\u001b[0m \u001b[1;33m==\u001b[0m \u001b[0mDynamicMemristor\u001b[0m\u001b[1;33m:\u001b[0m\u001b[1;33m\u001b[0m\u001b[1;33m\u001b[0m\u001b[0m\n",
      "\u001b[1;32mc:\\Users\\Ahsan\\OneDrive - University of Toronto\\Desktop\\onedrive_ruined_everything\\pytorch-metal-oxide-memristor-crossbar\\memristor\\devices.py\u001b[0m in \u001b[0;36mcalibrate\u001b[1;34m(self, t, f)\u001b[0m\n\u001b[0;32m     53\u001b[0m                         \u001b[0mPARAMS\u001b[0m\u001b[1;33m[\u001b[0m\u001b[1;34m'A3'\u001b[0m\u001b[1;33m]\u001b[0m\u001b[1;33m[\u001b[0m\u001b[1;34m'p3'\u001b[0m\u001b[1;33m]\u001b[0m \u001b[1;33m*\u001b[0m \u001b[0mself\u001b[0m\u001b[1;33m.\u001b[0m\u001b[0mg_0\u001b[0m \u001b[1;33m**\u001b[0m \u001b[1;36m2\u001b[0m \u001b[1;33m+\u001b[0m \u001b[0mPARAMS\u001b[0m\u001b[1;33m[\u001b[0m\u001b[1;34m'A3'\u001b[0m\u001b[1;33m]\u001b[0m\u001b[1;33m[\u001b[0m\u001b[1;34m'p4'\u001b[0m\u001b[1;33m]\u001b[0m \u001b[1;33m*\u001b[0m \u001b[0mself\u001b[0m\u001b[1;33m.\u001b[0m\u001b[0mg_0\u001b[0m \u001b[1;33m*\u001b[0m \u001b[0mself\u001b[0m\u001b[1;33m.\u001b[0m\u001b[0mt\u001b[0m\u001b[1;33m\u001b[0m\u001b[1;33m\u001b[0m\u001b[0m\n\u001b[0;32m     54\u001b[0m         self.g_linfit, _, _, _ = np.linalg.lstsq(np.reshape(np.linspace(-0.2, 0.2, 50), [50,1]),\n\u001b[1;32m---> 55\u001b[1;33m                                                  [self.inference(v) for v in np.linspace(-0.2, 0.2, 50)], rcond=-1)\n\u001b[0m\u001b[0;32m     56\u001b[0m \u001b[1;33m\u001b[0m\u001b[0m\n\u001b[0;32m     57\u001b[0m     \u001b[1;32mdef\u001b[0m \u001b[0minference\u001b[0m\u001b[1;33m(\u001b[0m\u001b[0mself\u001b[0m\u001b[1;33m,\u001b[0m \u001b[0mv\u001b[0m\u001b[1;33m)\u001b[0m\u001b[1;33m:\u001b[0m\u001b[1;33m\u001b[0m\u001b[1;33m\u001b[0m\u001b[0m\n",
      "\u001b[1;32mc:\\Users\\Ahsan\\OneDrive - University of Toronto\\Desktop\\onedrive_ruined_everything\\pytorch-metal-oxide-memristor-crossbar\\memristor\\devices.py\u001b[0m in \u001b[0;36m<listcomp>\u001b[1;34m(.0)\u001b[0m\n\u001b[0;32m     53\u001b[0m                         \u001b[0mPARAMS\u001b[0m\u001b[1;33m[\u001b[0m\u001b[1;34m'A3'\u001b[0m\u001b[1;33m]\u001b[0m\u001b[1;33m[\u001b[0m\u001b[1;34m'p3'\u001b[0m\u001b[1;33m]\u001b[0m \u001b[1;33m*\u001b[0m \u001b[0mself\u001b[0m\u001b[1;33m.\u001b[0m\u001b[0mg_0\u001b[0m \u001b[1;33m**\u001b[0m \u001b[1;36m2\u001b[0m \u001b[1;33m+\u001b[0m \u001b[0mPARAMS\u001b[0m\u001b[1;33m[\u001b[0m\u001b[1;34m'A3'\u001b[0m\u001b[1;33m]\u001b[0m\u001b[1;33m[\u001b[0m\u001b[1;34m'p4'\u001b[0m\u001b[1;33m]\u001b[0m \u001b[1;33m*\u001b[0m \u001b[0mself\u001b[0m\u001b[1;33m.\u001b[0m\u001b[0mg_0\u001b[0m \u001b[1;33m*\u001b[0m \u001b[0mself\u001b[0m\u001b[1;33m.\u001b[0m\u001b[0mt\u001b[0m\u001b[1;33m\u001b[0m\u001b[1;33m\u001b[0m\u001b[0m\n\u001b[0;32m     54\u001b[0m         self.g_linfit, _, _, _ = np.linalg.lstsq(np.reshape(np.linspace(-0.2, 0.2, 50), [50,1]),\n\u001b[1;32m---> 55\u001b[1;33m                                                  [self.inference(v) for v in np.linspace(-0.2, 0.2, 50)], rcond=-1)\n\u001b[0m\u001b[0;32m     56\u001b[0m \u001b[1;33m\u001b[0m\u001b[0m\n\u001b[0;32m     57\u001b[0m     \u001b[1;32mdef\u001b[0m \u001b[0minference\u001b[0m\u001b[1;33m(\u001b[0m\u001b[0mself\u001b[0m\u001b[1;33m,\u001b[0m \u001b[0mv\u001b[0m\u001b[1;33m)\u001b[0m\u001b[1;33m:\u001b[0m\u001b[1;33m\u001b[0m\u001b[1;33m\u001b[0m\u001b[0m\n",
      "\u001b[1;32mc:\\Users\\Ahsan\\OneDrive - University of Toronto\\Desktop\\onedrive_ruined_everything\\pytorch-metal-oxide-memristor-crossbar\\memristor\\devices.py\u001b[0m in \u001b[0;36minference\u001b[1;34m(self, v)\u001b[0m\n\u001b[0;32m     63\u001b[0m         \"\"\"\n\u001b[0;32m     64\u001b[0m         \u001b[0mi_spacial\u001b[0m \u001b[1;33m=\u001b[0m \u001b[0mself\u001b[0m\u001b[1;33m.\u001b[0m\u001b[0mnoise_free_dc_iv_curve\u001b[0m\u001b[1;33m(\u001b[0m\u001b[0mv\u001b[0m\u001b[1;33m)\u001b[0m \u001b[1;33m+\u001b[0m \u001b[0mself\u001b[0m\u001b[1;33m.\u001b[0m\u001b[0md2d_variation\u001b[0m\u001b[1;33m(\u001b[0m\u001b[0mv\u001b[0m\u001b[1;33m)\u001b[0m\u001b[1;33m\u001b[0m\u001b[1;33m\u001b[0m\u001b[0m\n\u001b[1;32m---> 65\u001b[1;33m         \u001b[0mi\u001b[0m \u001b[1;33m=\u001b[0m \u001b[0mi_spacial\u001b[0m \u001b[1;33m+\u001b[0m \u001b[0mself\u001b[0m\u001b[1;33m.\u001b[0m\u001b[0mtemporal_variation\u001b[0m\u001b[1;33m(\u001b[0m\u001b[0mv\u001b[0m\u001b[1;33m,\u001b[0m \u001b[0mi_spacial\u001b[0m\u001b[1;33m)\u001b[0m\u001b[1;33m\u001b[0m\u001b[1;33m\u001b[0m\u001b[0m\n\u001b[0m\u001b[0;32m     66\u001b[0m         \u001b[1;32mreturn\u001b[0m \u001b[0mi\u001b[0m\u001b[1;33m\u001b[0m\u001b[1;33m\u001b[0m\u001b[0m\n\u001b[0;32m     67\u001b[0m \u001b[1;33m\u001b[0m\u001b[0m\n",
      "\u001b[1;32mc:\\Users\\Ahsan\\OneDrive - University of Toronto\\Desktop\\onedrive_ruined_everything\\pytorch-metal-oxide-memristor-crossbar\\memristor\\devices.py\u001b[0m in \u001b[0;36mtemporal_variation\u001b[1;34m(self, v, i_spacial)\u001b[0m\n\u001b[0;32m     40\u001b[0m \u001b[1;33m\u001b[0m\u001b[0m\n\u001b[0;32m     41\u001b[0m     \u001b[1;32mdef\u001b[0m \u001b[0mtemporal_variation\u001b[0m\u001b[1;33m(\u001b[0m\u001b[0mself\u001b[0m\u001b[1;33m,\u001b[0m \u001b[0mv\u001b[0m\u001b[1;33m,\u001b[0m \u001b[0mi_spacial\u001b[0m\u001b[1;33m)\u001b[0m\u001b[1;33m:\u001b[0m\u001b[1;33m\u001b[0m\u001b[1;33m\u001b[0m\u001b[0m\n\u001b[1;32m---> 42\u001b[1;33m         \u001b[1;32mreturn\u001b[0m \u001b[0mnp\u001b[0m\u001b[1;33m.\u001b[0m\u001b[0mrandom\u001b[0m\u001b[1;33m.\u001b[0m\u001b[0mnormal\u001b[0m\u001b[1;33m(\u001b[0m\u001b[1;36m0\u001b[0m\u001b[1;33m,\u001b[0m \u001b[1;36m4\u001b[0m \u001b[1;33m*\u001b[0m \u001b[0mK_b\u001b[0m \u001b[1;33m*\u001b[0m \u001b[0mself\u001b[0m\u001b[1;33m.\u001b[0m\u001b[0mt\u001b[0m \u001b[1;33m*\u001b[0m \u001b[0mself\u001b[0m\u001b[1;33m.\u001b[0m\u001b[0mf\u001b[0m \u001b[1;33m*\u001b[0m \u001b[0mi_spacial\u001b[0m \u001b[1;33m/\u001b[0m \u001b[0mv\u001b[0m\u001b[1;33m,\u001b[0m \u001b[1;36m1\u001b[0m\u001b[1;33m)\u001b[0m\u001b[1;33m.\u001b[0m\u001b[0mitem\u001b[0m\u001b[1;33m(\u001b[0m\u001b[1;33m)\u001b[0m\u001b[1;33m\u001b[0m\u001b[1;33m\u001b[0m\u001b[0m\n\u001b[0m\u001b[0;32m     43\u001b[0m \u001b[1;33m\u001b[0m\u001b[0m\n\u001b[0;32m     44\u001b[0m     \u001b[1;32mdef\u001b[0m \u001b[0mcalibrate\u001b[0m\u001b[1;33m(\u001b[0m\u001b[0mself\u001b[0m\u001b[1;33m,\u001b[0m \u001b[0mt\u001b[0m\u001b[1;33m,\u001b[0m \u001b[0mf\u001b[0m\u001b[1;33m)\u001b[0m\u001b[1;33m:\u001b[0m\u001b[1;33m\u001b[0m\u001b[1;33m\u001b[0m\u001b[0m\n",
      "\u001b[1;32mmtrand.pyx\u001b[0m in \u001b[0;36mnumpy.random.mtrand.RandomState.normal\u001b[1;34m()\u001b[0m\n",
      "\u001b[1;32m_common.pyx\u001b[0m in \u001b[0;36mnumpy.random._common.cont\u001b[1;34m()\u001b[0m\n",
      "\u001b[1;32m_common.pyx\u001b[0m in \u001b[0;36mnumpy.random._common.check_constraint\u001b[1;34m()\u001b[0m\n",
      "\u001b[1;31mValueError\u001b[0m: scale < 0"
     ]
    }
   ],
   "source": [
    "# finding nearest neighbor of each vector using NaiveLSH:\n",
    "from memristor.engine.model import NaiveLSH\n",
    "from memristor.crossbar.model import LineResistanceCrossbar\n",
    "from memristor.devices import StaticMemristor\n",
    "naive_lsh = NaiveLSH(\n",
    "    hash_size=3, # adjustable hyperparameter\n",
    "    crossbar_class=LineResistanceCrossbar,\n",
    "    crossbar_params={'r_wl': 20, 'r_bl': 20, 'r_in':10, 'r_out':10, 'V_SOURCE_MODE':'|_|'},\n",
    "    memristor_model_class=StaticMemristor,\n",
    "    memristor_params={'frequency': 1e8, 'temperature': 273 + 40},\n",
    "    m=m,\n",
    "    r=1, # adjustable hyperparameter\n",
    ")\n",
    "reps = 5 # adjustable hyperparameter (repetitions of the hashing)\n",
    "all_bins = []\n",
    "for _ in range(reps):\n",
    "    bins = {}\n",
    "    for i in range(len(vectors)):\n",
    "        hash = naive_lsh.inference(vectors[i])\n",
    "        if hash not in bins.keys():\n",
    "            bins[hash] = [i]\n",
    "        else:\n",
    "            bins[hash].append(i)\n",
    "    for bin in list(bins.values()):\n",
    "        all_bins.append(bin)\n",
    "#      {010:[1,5,7], 111:[5,6,7]}\n",
    "\n",
    "# now at this point all_bins is a list like [[1,2], [1,3,5], ... ] where each element of all_bins is a bin containing indices of vectors that are likely\n",
    "# to be close to each other. so now to find the nearest neighbor for each vector, we simply iterate through and check only those vectors that share a bin\n",
    "# with it, so in this case for 1 we would check 2, 3, and 5, to find the nearest neighbor\n",
    "nearest_neighbors_approx = {}\n",
    "for i in range(len(vectors)):\n",
    "    nearest_dist = float('inf')\n",
    "    nearest_neighbors_approx[i] = None\n",
    "    for bin in all_bins:\n",
    "        if i in bin:\n",
    "            for j in bin:\n",
    "                if j != i:\n",
    "                    dist = np.linalg.norm(vectors[i] - vectors[j])\n",
    "                    if dist < nearest_dist:\n",
    "                        nearest_dist = dist \n",
    "                        nearest_neighbors_approx[i] = j\n",
    "print (nearest_neighbors_approx)"
   ]
  },
  {
   "cell_type": "code",
   "execution_count": null,
   "metadata": {},
   "outputs": [],
   "source": []
  }
 ],
 "metadata": {
  "kernelspec": {
   "display_name": "messi",
   "language": "python",
   "name": "python3"
  },
  "language_info": {
   "codemirror_mode": {
    "name": "ipython",
    "version": 3
   },
   "file_extension": ".py",
   "mimetype": "text/x-python",
   "name": "python",
   "nbconvert_exporter": "python",
   "pygments_lexer": "ipython3",
   "version": "3.7.9"
  },
  "orig_nbformat": 4
 },
 "nbformat": 4,
 "nbformat_minor": 2
}
